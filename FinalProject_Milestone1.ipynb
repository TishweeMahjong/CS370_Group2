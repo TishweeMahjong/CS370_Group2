{
  "nbformat": 4,
  "nbformat_minor": 0,
  "metadata": {
    "colab": {
      "provenance": [],
      "include_colab_link": true
    },
    "kernelspec": {
      "name": "python3",
      "display_name": "Python 3"
    },
    "language_info": {
      "name": "python"
    }
  },
  "cells": [
    {
      "cell_type": "markdown",
      "metadata": {
        "id": "view-in-github",
        "colab_type": "text"
      },
      "source": [
        "<a href=\"https://colab.research.google.com/github/TishweeMahjong/CS370_Group2/blob/Milestone1/FinalProject_Milestone1.ipynb\" target=\"_parent\"><img src=\"https://colab.research.google.com/assets/colab-badge.svg\" alt=\"Open In Colab\"/></a>"
      ]
    },
    {
      "cell_type": "markdown",
      "source": [
        "## Milestone 1: Source Videos and Closed Captions"
      ],
      "metadata": {
        "id": "7THDsNSINWw-"
      }
    },
    {
      "cell_type": "code",
      "source": [
        "!pip install pytube\n",
        "!pip install youtube_transcript_api"
      ],
      "metadata": {
        "colab": {
          "base_uri": "https://localhost:8080/"
        },
        "id": "x-7SJLOhLSw_",
        "outputId": "44c9e88e-8667-44a3-930c-31bcbde6a582"
      },
      "execution_count": 1,
      "outputs": [
        {
          "output_type": "stream",
          "name": "stdout",
          "text": [
            "Collecting pytube\n",
            "  Downloading pytube-15.0.0-py3-none-any.whl (57 kB)\n",
            "\u001b[2K     \u001b[90m━━━━━━━━━━━━━━━━━━━━━━━━━━━━━━━━━━━━━━━━\u001b[0m \u001b[32m57.6/57.6 kB\u001b[0m \u001b[31m1.6 MB/s\u001b[0m eta \u001b[36m0:00:00\u001b[0m\n",
            "\u001b[?25hInstalling collected packages: pytube\n",
            "Successfully installed pytube-15.0.0\n",
            "Collecting youtube_transcript_api\n",
            "  Downloading youtube_transcript_api-0.6.1-py3-none-any.whl (24 kB)\n",
            "Requirement already satisfied: requests in /usr/local/lib/python3.10/dist-packages (from youtube_transcript_api) (2.31.0)\n",
            "Requirement already satisfied: charset-normalizer<4,>=2 in /usr/local/lib/python3.10/dist-packages (from requests->youtube_transcript_api) (3.3.1)\n",
            "Requirement already satisfied: idna<4,>=2.5 in /usr/local/lib/python3.10/dist-packages (from requests->youtube_transcript_api) (3.4)\n",
            "Requirement already satisfied: urllib3<3,>=1.21.1 in /usr/local/lib/python3.10/dist-packages (from requests->youtube_transcript_api) (2.0.7)\n",
            "Requirement already satisfied: certifi>=2017.4.17 in /usr/local/lib/python3.10/dist-packages (from requests->youtube_transcript_api) (2023.7.22)\n",
            "Installing collected packages: youtube_transcript_api\n",
            "Successfully installed youtube_transcript_api-0.6.1\n"
          ]
        }
      ]
    },
    {
      "cell_type": "code",
      "source": [
        "import os\n",
        "from pytube import YouTube\n",
        "from pytube import Playlist\n",
        "from youtube_transcript_api import YouTubeTranscriptApi\n",
        "\n",
        "playlist_url = 'https://www.youtube.com/playlist?list=PLI1yx5Z0Lrv77D_g1tvF9u3FVqnrNbCRL'\n",
        "total_videos = 10\n",
        "\n",
        "# directory to store downloaded videos and captions\n",
        "output_directory = 'downloaded_videos'\n",
        "os.makedirs(output_directory, exist_ok=True)\n",
        "\n",
        "def download_video(video_url, output_directory):\n",
        "    try:\n",
        "        yt = YouTube(video_url)\n",
        "        video_stream = yt.streams.filter(progressive=True, file_extension='mp4').first()\n",
        "        video_stream.download(output_path=output_directory)\n",
        "        print(f\"Downloaded: {yt.title}\")\n",
        "        return True\n",
        "    except Exception as e:\n",
        "        return False\n",
        "\n",
        "def download_captions(video_id, output_directory):\n",
        "    try:\n",
        "        captions = YouTubeTranscriptApi.get_transcript(video_id)\n",
        "        with open(os.path.join(output_directory, f\"{video_id}_captions.json\"), 'w', encoding='utf-8') as file:\n",
        "            file.write(str(captions))\n",
        "        print(f\"Downloaded captions for video ID: {video_id}\")\n",
        "    except Exception as e:\n",
        "        return False\n",
        "\n",
        "# Fetch videos from the playlist\n",
        "playlist = Playlist(playlist_url)\n",
        "\n",
        "# Download videos and captions\n",
        "downloaded_videos = 0\n",
        "\n",
        "for video_url in playlist.video_urls:\n",
        "    if downloaded_videos >= total_videos:\n",
        "        break\n",
        "\n",
        "    if download_video(video_url, output_directory):\n",
        "        video_id = video_url.split('v=')[1]\n",
        "        download_captions(video_id, output_directory)\n",
        "        downloaded_videos += 1\n",
        "\n",
        "print(f\"Downloaded {downloaded_videos} videos and their captions to {output_directory}\")"
      ],
      "metadata": {
        "colab": {
          "base_uri": "https://localhost:8080/"
        },
        "id": "MrDhw1vSO-tx",
        "outputId": "a3dd4fe1-a123-44cd-d597-b7a7ad49901c"
      },
      "execution_count": 2,
      "outputs": [
        {
          "output_type": "stream",
          "name": "stdout",
          "text": [
            "Downloaded: Pink: The 60 Minutes Interview\n",
            "Downloaded captions for video ID: 480OGItLZNo\n",
            "Downloaded: Rich Paul: The 60 Minutes Interview\n",
            "Downloaded captions for video ID: OA2Tj75T3fI\n",
            "Downloaded: \"Godfather of AI\" Geoffrey Hinton: The 60 Minutes Interview\n",
            "Downloaded captions for video ID: qrvK_KuIeJk\n",
            "Downloaded: Gen. Mark Milley: The 60 Minutes Interview\n",
            "Downloaded captions for video ID: oFVuQ0RP_As\n",
            "Downloaded: Attorney General Merrick Garland: The 60 Minutes Interview\n",
            "Downloaded captions for video ID: 4aPp8KX6EiU\n",
            "Downloaded: Deion Sanders: The 2023 60 Minutes Interview\n",
            "Downloaded captions for video ID: h8PSWeRLGXs\n",
            "Downloaded: Volodymyr Zelenskyy: The 2023 60 Minutes Interview\n",
            "Downloaded captions for video ID: Z8qC2tVkGeU\n",
            "Downloaded: Denzel Washington | 60 Minutes Archive\n",
            "Downloaded captions for video ID: Y9nM_9oBj2k\n",
            "Downloaded: World Number 1 Pool Player Shane Van Boening: The 60 Minutes Interview\n",
            "Downloaded captions for video ID: ervLwxz7xPo\n",
            "Downloaded: Yannick Nézet-Séguin: The 60 Minutes Interview\n",
            "Downloaded captions for video ID: _e0Ez7bO1is\n",
            "Downloaded 10 videos and their captions to downloaded_videos\n"
          ]
        }
      ]
    }
  ]
}
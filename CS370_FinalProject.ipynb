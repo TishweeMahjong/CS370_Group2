{
  "nbformat": 4,
  "nbformat_minor": 0,
  "metadata": {
    "colab": {
      "provenance": [],
      "gpuType": "T4",
      "include_colab_link": true
    },
    "kernelspec": {
      "name": "python3",
      "display_name": "Python 3"
    },
    "language_info": {
      "name": "python"
    },
    "accelerator": "GPU"
  },
  "cells": [
    {
      "cell_type": "markdown",
      "metadata": {
        "id": "view-in-github",
        "colab_type": "text"
      },
      "source": [
        "<a href=\"https://colab.research.google.com/github/TishweeMahjong/CS370_Group2/blob/Milestone3/CS370_FinalProject.ipynb\" target=\"_parent\"><img src=\"https://colab.research.google.com/assets/colab-badge.svg\" alt=\"Open In Colab\"/></a>"
      ]
    },
    {
      "cell_type": "markdown",
      "source": [
        "## Milestone 1: Source Videos and Closed Captions"
      ],
      "metadata": {
        "id": "7THDsNSINWw-"
      }
    },
    {
      "cell_type": "code",
      "source": [
        "!pip install pytube\n",
        "!pip install youtube_transcript_api"
      ],
      "metadata": {
        "colab": {
          "base_uri": "https://localhost:8080/"
        },
        "id": "x-7SJLOhLSw_",
        "outputId": "7d08af38-ff59-4b52-c46d-97b025d2b736"
      },
      "execution_count": null,
      "outputs": [
        {
          "output_type": "stream",
          "name": "stdout",
          "text": [
            "Collecting pytube\n",
            "  Downloading pytube-15.0.0-py3-none-any.whl (57 kB)\n",
            "\u001b[2K     \u001b[90m━━━━━━━━━━━━━━━━━━━━━━━━━━━━━━━━━━━━━━━━\u001b[0m \u001b[32m57.6/57.6 kB\u001b[0m \u001b[31m482.5 kB/s\u001b[0m eta \u001b[36m0:00:00\u001b[0m\n",
            "\u001b[?25hInstalling collected packages: pytube\n",
            "Successfully installed pytube-15.0.0\n",
            "Collecting youtube_transcript_api\n",
            "  Downloading youtube_transcript_api-0.6.1-py3-none-any.whl (24 kB)\n",
            "Requirement already satisfied: requests in /usr/local/lib/python3.10/dist-packages (from youtube_transcript_api) (2.31.0)\n",
            "Requirement already satisfied: charset-normalizer<4,>=2 in /usr/local/lib/python3.10/dist-packages (from requests->youtube_transcript_api) (3.3.2)\n",
            "Requirement already satisfied: idna<4,>=2.5 in /usr/local/lib/python3.10/dist-packages (from requests->youtube_transcript_api) (3.4)\n",
            "Requirement already satisfied: urllib3<3,>=1.21.1 in /usr/local/lib/python3.10/dist-packages (from requests->youtube_transcript_api) (2.0.7)\n",
            "Requirement already satisfied: certifi>=2017.4.17 in /usr/local/lib/python3.10/dist-packages (from requests->youtube_transcript_api) (2023.7.22)\n",
            "Installing collected packages: youtube_transcript_api\n",
            "Successfully installed youtube_transcript_api-0.6.1\n"
          ]
        }
      ]
    },
    {
      "cell_type": "code",
      "source": [
        "from google.colab import drive\n",
        "drive.mount('/content/gdrive')"
      ],
      "metadata": {
        "colab": {
          "base_uri": "https://localhost:8080/"
        },
        "id": "NHiRjCKNLJHv",
        "outputId": "49deea84-fcdc-4426-fddd-2d7bedca1e3a"
      },
      "execution_count": null,
      "outputs": [
        {
          "output_type": "stream",
          "name": "stdout",
          "text": [
            "Mounted at /content/gdrive\n"
          ]
        }
      ]
    },
    {
      "cell_type": "code",
      "source": [
        "import os\n",
        "from pytube import YouTube\n",
        "from pytube import Playlist\n",
        "from youtube_transcript_api import YouTubeTranscriptApi\n",
        "\n",
        "playlist_url = 'https://www.youtube.com/playlist?list=PLI1yx5Z0Lrv77D_g1tvF9u3FVqnrNbCRL'\n",
        "total_videos = 10\n",
        "\n",
        "# directory to store downloaded videos and captions\n",
        "video_directory = '/content/gdrive/Shareddrives/CS370_Group2/downloaded_videos'\n",
        "os.makedirs(video_directory, exist_ok=True)\n",
        "\n",
        "def download_video(video_url, video_directory):\n",
        "    try:\n",
        "        yt = YouTube(video_url)\n",
        "        video_stream = yt.streams.filter(progressive=True, file_extension='mp4').first()\n",
        "        video_stream.download(output_path=video_directory)\n",
        "        print(f\"Downloaded: {yt.title}\")\n",
        "        return True\n",
        "    except Exception as e:\n",
        "        return False\n",
        "\n",
        "def download_captions(video_id, video_directory):\n",
        "    try:\n",
        "        captions = YouTubeTranscriptApi.get_transcript(video_id)\n",
        "        with open(os.path.join(video_directory, f\"{video_id}_captions.json\"), 'w', encoding='utf-8') as file:\n",
        "            file.write(str(captions))\n",
        "        print(f\"Downloaded captions for video ID: {video_id}\")\n",
        "    except Exception as e:\n",
        "        return False\n",
        "\n",
        "# Fetch videos from the playlist\n",
        "playlist = Playlist(playlist_url)\n",
        "\n",
        "downloaded_videos = 0\n",
        "\n",
        "for video_url in playlist.video_urls:\n",
        "    if downloaded_videos >= total_videos:\n",
        "        break\n",
        "\n",
        "    if download_video(video_url, video_directory):\n",
        "        video_id = video_url.split('v=')[1]\n",
        "        download_captions(video_id, video_directory)\n",
        "        downloaded_videos += 1\n",
        "\n",
        "print(f\"Downloaded {downloaded_videos} videos and their captions to {video_directory}\")"
      ],
      "metadata": {
        "colab": {
          "base_uri": "https://localhost:8080/"
        },
        "id": "MrDhw1vSO-tx",
        "outputId": "8d40b264-dcc7-4be8-e4a2-60c016ff4093"
      },
      "execution_count": null,
      "outputs": [
        {
          "output_type": "stream",
          "name": "stdout",
          "text": [
            "Downloaded: Vice President Kamala Harris: The 2023 60 Minutes Interview\n",
            "Downloaded captions for video ID: G3Eup4mfJdA\n",
            "Downloaded: Pink: The 60 Minutes Interview\n",
            "Downloaded captions for video ID: 480OGItLZNo\n",
            "Downloaded: Rich Paul: The 60 Minutes Interview\n",
            "Downloaded captions for video ID: OA2Tj75T3fI\n",
            "Downloaded: \"Godfather of AI\" Geoffrey Hinton: The 60 Minutes Interview\n",
            "Downloaded captions for video ID: qrvK_KuIeJk\n",
            "Downloaded: Gen. Mark Milley: The 60 Minutes Interview\n",
            "Downloaded captions for video ID: oFVuQ0RP_As\n",
            "Downloaded: Attorney General Merrick Garland: The 60 Minutes Interview\n",
            "Downloaded captions for video ID: 4aPp8KX6EiU\n",
            "Downloaded: Deion Sanders: The 2023 60 Minutes Interview\n",
            "Downloaded captions for video ID: h8PSWeRLGXs\n",
            "Downloaded: Volodymyr Zelenskyy: The 2023 60 Minutes Interview\n",
            "Downloaded captions for video ID: Z8qC2tVkGeU\n",
            "Downloaded: Denzel Washington | 60 Minutes Archive\n",
            "Downloaded captions for video ID: Y9nM_9oBj2k\n",
            "Downloaded: World Number 1 Pool Player Shane Van Boening: The 60 Minutes Interview\n",
            "Downloaded captions for video ID: ervLwxz7xPo\n",
            "Downloaded 10 videos and their captions to /content/gdrive/Shareddrives/CS370_Group2/downloaded_videos\n"
          ]
        }
      ]
    },
    {
      "cell_type": "markdown",
      "source": [
        "## Milestone 2: Speech to Text"
      ],
      "metadata": {
        "id": "idA2FgHni0Aw"
      }
    },
    {
      "cell_type": "code",
      "source": [
        "!pip install -q pytube\n",
        "!pip install -q git+https://github.com/openai/whisper.git\n",
        "\n",
        "import os, re\n",
        "import torch\n",
        "from pathlib import Path\n",
        "from pytube import YouTube"
      ],
      "metadata": {
        "colab": {
          "base_uri": "https://localhost:8080/"
        },
        "id": "vcB882loi9XJ",
        "outputId": "55863609-8658-4ed0-bce1-4344105d3095"
      },
      "execution_count": null,
      "outputs": [
        {
          "output_type": "stream",
          "name": "stdout",
          "text": [
            "  Installing build dependencies ... \u001b[?25l\u001b[?25hdone\n",
            "  Getting requirements to build wheel ... \u001b[?25l\u001b[?25hdone\n",
            "  Preparing metadata (pyproject.toml) ... \u001b[?25l\u001b[?25hdone\n",
            "\u001b[2K     \u001b[90m━━━━━━━━━━━━━━━━━━━━━━━━━━━━━━━━━━━━━━━━\u001b[0m \u001b[32m2.0/2.0 MB\u001b[0m \u001b[31m25.3 MB/s\u001b[0m eta \u001b[36m0:00:00\u001b[0m\n",
            "\u001b[?25h  Building wheel for openai-whisper (pyproject.toml) ... \u001b[?25l\u001b[?25hdone\n",
            "\u001b[31mERROR: pip's dependency resolver does not currently take into account all the packages that are installed. This behaviour is the source of the following dependency conflicts.\n",
            "llmx 0.0.15a0 requires cohere, which is not installed.\n",
            "llmx 0.0.15a0 requires openai, which is not installed.\u001b[0m\u001b[31m\n",
            "\u001b[0m"
          ]
        }
      ]
    },
    {
      "cell_type": "code",
      "source": [
        "import whisper\n",
        "from whisper.utils import get_writer\n",
        "\n",
        "transcription_directory = '/content/gdrive/Shareddrives/CS370_Group2/transcriptions'\n",
        "os.makedirs(transcription_directory, exist_ok=True)\n",
        "\n",
        "def transcribe_video(video_path, output_file):\n",
        "    try:\n",
        "        model = whisper.load_model(\"base\")\n",
        "        result = model.transcribe(video_path)\n",
        "        transcribed_text = result[\"text\"]\n",
        "\n",
        "        with open(output_file, 'w', encoding='utf-8') as text_file:\n",
        "            text_file.write(transcribed_text)\n",
        "        print(f\"Transcribed video: {video_path}\")\n",
        "\n",
        "    except Exception as e:\n",
        "        print(f\"Error transcribing video: {video_path}, Error: {str(e)}\")\n",
        "\n",
        "for filename in os.listdir(video_directory):\n",
        "    if filename.endswith(\".mp4\"):\n",
        "        video_path = os.path.join(video_directory, filename)\n",
        "        output_file = os.path.join(transcription_directory, f\"{os.path.splitext(filename)[0]}.txt\")\n",
        "        transcribe_video(video_path, output_file)\n",
        "\n",
        "print(f\"Transcriptions saved in {transcription_directory}\")"
      ],
      "metadata": {
        "colab": {
          "base_uri": "https://localhost:8080/"
        },
        "id": "xM329t8K0OdZ",
        "outputId": "ad00d4b7-d043-468d-8882-c9fb7c2e83c6"
      },
      "execution_count": null,
      "outputs": [
        {
          "output_type": "stream",
          "name": "stderr",
          "text": [
            "100%|███████████████████████████████████████| 139M/139M [00:01<00:00, 85.1MiB/s]\n"
          ]
        },
        {
          "output_type": "stream",
          "name": "stdout",
          "text": [
            "Transcribed video: /content/gdrive/Shareddrives/CS370_Group2/downloaded_videos/Vice President Kamala Harris The 2023 60 Minutes Interview.mp4\n",
            "Transcribed video: /content/gdrive/Shareddrives/CS370_Group2/downloaded_videos/Pink The 60 Minutes Interview.mp4\n",
            "Transcribed video: /content/gdrive/Shareddrives/CS370_Group2/downloaded_videos/Rich Paul The 60 Minutes Interview.mp4\n",
            "Transcribed video: /content/gdrive/Shareddrives/CS370_Group2/downloaded_videos/Godfather of AI Geoffrey Hinton The 60 Minutes Interview.mp4\n",
            "Transcribed video: /content/gdrive/Shareddrives/CS370_Group2/downloaded_videos/Gen Mark Milley The 60 Minutes Interview.mp4\n",
            "Transcribed video: /content/gdrive/Shareddrives/CS370_Group2/downloaded_videos/Attorney General Merrick Garland The 60 Minutes Interview.mp4\n",
            "Transcribed video: /content/gdrive/Shareddrives/CS370_Group2/downloaded_videos/Deion Sanders The 2023 60 Minutes Interview.mp4\n",
            "Transcribed video: /content/gdrive/Shareddrives/CS370_Group2/downloaded_videos/Volodymyr Zelenskyy The 2023 60 Minutes Interview.mp4\n",
            "Transcribed video: /content/gdrive/Shareddrives/CS370_Group2/downloaded_videos/Denzel Washington  60 Minutes Archive.mp4\n",
            "Transcribed video: /content/gdrive/Shareddrives/CS370_Group2/downloaded_videos/World Number 1 Pool Player Shane Van Boening The 60 Minutes Interview.mp4\n",
            "Transcriptions saved in /content/gdrive/Shareddrives/CS370_Group2/transcriptions\n"
          ]
        }
      ]
    },
    {
      "cell_type": "markdown",
      "source": [
        "## Milestone 3: Source Text to Target Text"
      ],
      "metadata": {
        "id": "WfI2uKWf94K8"
      }
    },
    {
      "cell_type": "code",
      "source": [
        "!pip install PyICU"
      ],
      "metadata": {
        "colab": {
          "base_uri": "https://localhost:8080/"
        },
        "id": "5uCCAo1e9VPZ",
        "outputId": "937d218d-0a61-41f6-fc6e-b42a1ca5e08b"
      },
      "execution_count": null,
      "outputs": [
        {
          "output_type": "stream",
          "name": "stdout",
          "text": [
            "Collecting PyICU\n",
            "  Downloading PyICU-2.12.tar.gz (260 kB)\n",
            "\u001b[?25l     \u001b[90m━━━━━━━━━━━━━━━━━━━━━━━━━━━━━━━━━━━━━━━━\u001b[0m \u001b[32m0.0/260.0 kB\u001b[0m \u001b[31m?\u001b[0m eta \u001b[36m-:--:--\u001b[0m\r\u001b[2K     \u001b[91m━━━━━━━━━━━━━━\u001b[0m\u001b[90m╺\u001b[0m\u001b[90m━━━━━━━━━━━━━━━━━━━━━━━━━\u001b[0m \u001b[32m92.2/260.0 kB\u001b[0m \u001b[31m2.6 MB/s\u001b[0m eta \u001b[36m0:00:01\u001b[0m\r\u001b[2K     \u001b[90m━━━━━━━━━━━━━━━━━━━━━━━━━━━━━━━━━━━━━━━━\u001b[0m \u001b[32m260.0/260.0 kB\u001b[0m \u001b[31m5.0 MB/s\u001b[0m eta \u001b[36m0:00:00\u001b[0m\n",
            "\u001b[?25h  Installing build dependencies ... \u001b[?25l\u001b[?25hdone\n",
            "  Getting requirements to build wheel ... \u001b[?25l\u001b[?25hdone\n",
            "  Preparing metadata (pyproject.toml) ... \u001b[?25l\u001b[?25hdone\n",
            "Building wheels for collected packages: PyICU\n",
            "  Building wheel for PyICU (pyproject.toml) ... \u001b[?25l\u001b[?25hdone\n",
            "  Created wheel for PyICU: filename=PyICU-2.12-cp310-cp310-linux_x86_64.whl size=1754546 sha256=72cb5b8e7c46f6963093bae78f09ffc0873e1d901188f68ec1df9b50e6b8b139\n",
            "  Stored in directory: /root/.cache/pip/wheels/74/60/95/66d97ac2fdc8be8e526c4254047405fe77feaf064282d1ad07\n",
            "Successfully built PyICU\n",
            "Installing collected packages: PyICU\n",
            "Successfully installed PyICU-2.12\n"
          ]
        }
      ]
    },
    {
      "cell_type": "code",
      "source": [
        "import os\n",
        "import icu\n",
        "\n",
        "translation_directory = '/content/gdrive/Shareddrives/CS370_Group2/translations'\n",
        "os.makedirs(translation_directory, exist_ok=True)\n",
        "\n",
        "def translate_text(text, target_language='fr'):\n",
        "    try:\n",
        "        french_locale = icu.Locale(target_language)\n",
        "        converter = icu.Transliterator.createInstance(\"Any-Latin; Latin-ASCII; NFD; [:Nonspacing Mark:] Remove; NFC\")\n",
        "        translated_text = converter.transliterate(text)\n",
        "        return translated_text\n",
        "    except Exception as e:\n",
        "        print(f\"Error translating text. Error: {str(e)}\")\n",
        "        return None\n",
        "\n",
        "for filename in os.listdir(video_directory):\n",
        "    if filename.endswith(\".mp4\"):\n",
        "        video_path = os.path.join(video_directory, filename)\n",
        "        transcription_filename = f\"{os.path.splitext(filename)[0]}.txt\"\n",
        "        transcription_file_path = os.path.join(transcription_directory, transcription_filename)\n",
        "        if os.path.isfile(transcription_file_path):\n",
        "            with open(transcription_file_path, 'r', encoding='utf-8') as transcribed_file:\n",
        "                transcribed_text = transcribed_file.read()\n",
        "            translated_text = translate_text(transcribed_text)\n",
        "            if translated_text:\n",
        "                output_file_translation = os.path.join(translation_directory, f\"{os.path.splitext(filename)[0]}_translated.txt\")\n",
        "                with open(output_file_translation, 'w', encoding='utf-8') as text_file_translation:\n",
        "                    text_file_translation.write(translated_text)\n",
        "                print(f\"Translated and saved text for video: {output_file_translation}\")\n",
        "\n",
        "print(f\"Translations saved in {translation_directory}\")"
      ],
      "metadata": {
        "colab": {
          "base_uri": "https://localhost:8080/"
        },
        "id": "Iq1GSR4h9Zf6",
        "outputId": "08c61fbc-e19e-47c6-bbe1-d5ff2ccc48ac"
      },
      "execution_count": null,
      "outputs": [
        {
          "output_type": "stream",
          "name": "stdout",
          "text": [
            "Translated and saved text for video: /content/gdrive/Shareddrives/CS370_Group2/translations/Vice President Kamala Harris The 2023 60 Minutes Interview_translated.txt\n",
            "Translated and saved text for video: /content/gdrive/Shareddrives/CS370_Group2/translations/Pink The 60 Minutes Interview_translated.txt\n",
            "Translated and saved text for video: /content/gdrive/Shareddrives/CS370_Group2/translations/Rich Paul The 60 Minutes Interview_translated.txt\n",
            "Translated and saved text for video: /content/gdrive/Shareddrives/CS370_Group2/translations/Godfather of AI Geoffrey Hinton The 60 Minutes Interview_translated.txt\n",
            "Translated and saved text for video: /content/gdrive/Shareddrives/CS370_Group2/translations/Gen Mark Milley The 60 Minutes Interview_translated.txt\n",
            "Translated and saved text for video: /content/gdrive/Shareddrives/CS370_Group2/translations/Attorney General Merrick Garland The 60 Minutes Interview_translated.txt\n",
            "Translated and saved text for video: /content/gdrive/Shareddrives/CS370_Group2/translations/Deion Sanders The 2023 60 Minutes Interview_translated.txt\n",
            "Translated and saved text for video: /content/gdrive/Shareddrives/CS370_Group2/translations/Volodymyr Zelenskyy The 2023 60 Minutes Interview_translated.txt\n",
            "Translated and saved text for video: /content/gdrive/Shareddrives/CS370_Group2/translations/Denzel Washington  60 Minutes Archive_translated.txt\n",
            "Translated and saved text for video: /content/gdrive/Shareddrives/CS370_Group2/translations/World Number 1 Pool Player Shane Van Boening The 60 Minutes Interview_translated.txt\n",
            "Translations saved in /content/gdrive/Shareddrives/CS370_Group2/translations\n"
          ]
        }
      ]
    }
  ]
}